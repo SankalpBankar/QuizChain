{
 "cells": [
  {
   "cell_type": "code",
   "execution_count": 1,
   "id": "f1d51a47",
   "metadata": {},
   "outputs": [
    {
     "name": "stdout",
     "output_type": "stream",
     "text": [
      "Requirement already satisfied: pandas in c:\\users\\loq\\quizchain\\env\\lib\\site-packages (2.3.3)\n",
      "Requirement already satisfied: numpy>=1.26.0 in c:\\users\\loq\\quizchain\\env\\lib\\site-packages (from pandas) (2.3.3)\n",
      "Requirement already satisfied: python-dateutil>=2.8.2 in c:\\users\\loq\\quizchain\\env\\lib\\site-packages (from pandas) (2.9.0.post0)\n",
      "Requirement already satisfied: pytz>=2020.1 in c:\\users\\loq\\quizchain\\env\\lib\\site-packages (from pandas) (2025.2)\n",
      "Requirement already satisfied: tzdata>=2022.7 in c:\\users\\loq\\quizchain\\env\\lib\\site-packages (from pandas) (2025.2)\n",
      "Requirement already satisfied: six>=1.5 in c:\\users\\loq\\quizchain\\env\\lib\\site-packages (from python-dateutil>=2.8.2->pandas) (1.17.0)\n"
     ]
    }
   ],
   "source": [
    "!pip install pandas"
   ]
  },
  {
   "cell_type": "code",
   "execution_count": 2,
   "id": "0032a66f",
   "metadata": {},
   "outputs": [],
   "source": [
    "import os\n",
    "import json\n",
    "import pandas as pd\n",
    "import traceback"
   ]
  },
  {
   "cell_type": "code",
   "execution_count": 3,
   "id": "70ffe266",
   "metadata": {},
   "outputs": [
    {
     "name": "stdout",
     "output_type": "stream",
     "text": [
      "Collecting langchain-groq\n",
      "  Using cached langchain_groq-0.3.8-py3-none-any.whl.metadata (2.6 kB)\n",
      "Requirement already satisfied: langchain-core<1.0.0,>=0.3.75 in c:\\users\\loq\\quizchain\\env\\lib\\site-packages (from langchain-groq) (0.3.78)\n",
      "Requirement already satisfied: groq<1,>=0.30.0 in c:\\users\\loq\\quizchain\\env\\lib\\site-packages (from langchain-groq) (0.32.0)\n",
      "Requirement already satisfied: anyio<5,>=3.5.0 in c:\\users\\loq\\quizchain\\env\\lib\\site-packages (from groq<1,>=0.30.0->langchain-groq) (4.11.0)\n",
      "Requirement already satisfied: distro<2,>=1.7.0 in c:\\users\\loq\\quizchain\\env\\lib\\site-packages (from groq<1,>=0.30.0->langchain-groq) (1.9.0)\n",
      "Requirement already satisfied: httpx<1,>=0.23.0 in c:\\users\\loq\\quizchain\\env\\lib\\site-packages (from groq<1,>=0.30.0->langchain-groq) (0.28.1)\n",
      "Requirement already satisfied: pydantic<3,>=1.9.0 in c:\\users\\loq\\quizchain\\env\\lib\\site-packages (from groq<1,>=0.30.0->langchain-groq) (2.11.10)\n",
      "Requirement already satisfied: sniffio in c:\\users\\loq\\quizchain\\env\\lib\\site-packages (from groq<1,>=0.30.0->langchain-groq) (1.3.1)\n",
      "Requirement already satisfied: typing-extensions<5,>=4.10 in c:\\users\\loq\\quizchain\\env\\lib\\site-packages (from groq<1,>=0.30.0->langchain-groq) (4.15.0)\n",
      "Requirement already satisfied: idna>=2.8 in c:\\users\\loq\\quizchain\\env\\lib\\site-packages (from anyio<5,>=3.5.0->groq<1,>=0.30.0->langchain-groq) (3.10)\n",
      "Requirement already satisfied: certifi in c:\\users\\loq\\quizchain\\env\\lib\\site-packages (from httpx<1,>=0.23.0->groq<1,>=0.30.0->langchain-groq) (2025.10.5)\n",
      "Requirement already satisfied: httpcore==1.* in c:\\users\\loq\\quizchain\\env\\lib\\site-packages (from httpx<1,>=0.23.0->groq<1,>=0.30.0->langchain-groq) (1.0.9)\n",
      "Requirement already satisfied: h11>=0.16 in c:\\users\\loq\\quizchain\\env\\lib\\site-packages (from httpcore==1.*->httpx<1,>=0.23.0->groq<1,>=0.30.0->langchain-groq) (0.16.0)\n",
      "Requirement already satisfied: langsmith<1.0.0,>=0.3.45 in c:\\users\\loq\\quizchain\\env\\lib\\site-packages (from langchain-core<1.0.0,>=0.3.75->langchain-groq) (0.4.32)\n",
      "Requirement already satisfied: tenacity!=8.4.0,<10.0.0,>=8.1.0 in c:\\users\\loq\\quizchain\\env\\lib\\site-packages (from langchain-core<1.0.0,>=0.3.75->langchain-groq) (9.1.2)\n",
      "Requirement already satisfied: jsonpatch<2.0.0,>=1.33.0 in c:\\users\\loq\\quizchain\\env\\lib\\site-packages (from langchain-core<1.0.0,>=0.3.75->langchain-groq) (1.33)\n",
      "Requirement already satisfied: PyYAML<7.0.0,>=5.3.0 in c:\\users\\loq\\quizchain\\env\\lib\\site-packages (from langchain-core<1.0.0,>=0.3.75->langchain-groq) (6.0.3)\n",
      "Requirement already satisfied: packaging<26.0.0,>=23.2.0 in c:\\users\\loq\\quizchain\\env\\lib\\site-packages (from langchain-core<1.0.0,>=0.3.75->langchain-groq) (25.0)\n",
      "Requirement already satisfied: jsonpointer>=1.9 in c:\\users\\loq\\quizchain\\env\\lib\\site-packages (from jsonpatch<2.0.0,>=1.33.0->langchain-core<1.0.0,>=0.3.75->langchain-groq) (3.0.0)\n",
      "Requirement already satisfied: orjson>=3.9.14 in c:\\users\\loq\\quizchain\\env\\lib\\site-packages (from langsmith<1.0.0,>=0.3.45->langchain-core<1.0.0,>=0.3.75->langchain-groq) (3.11.3)\n",
      "Requirement already satisfied: requests-toolbelt>=1.0.0 in c:\\users\\loq\\quizchain\\env\\lib\\site-packages (from langsmith<1.0.0,>=0.3.45->langchain-core<1.0.0,>=0.3.75->langchain-groq) (1.0.0)\n",
      "Requirement already satisfied: requests>=2.0.0 in c:\\users\\loq\\quizchain\\env\\lib\\site-packages (from langsmith<1.0.0,>=0.3.45->langchain-core<1.0.0,>=0.3.75->langchain-groq) (2.32.5)\n",
      "Requirement already satisfied: zstandard>=0.23.0 in c:\\users\\loq\\quizchain\\env\\lib\\site-packages (from langsmith<1.0.0,>=0.3.45->langchain-core<1.0.0,>=0.3.75->langchain-groq) (0.25.0)\n",
      "Requirement already satisfied: annotated-types>=0.6.0 in c:\\users\\loq\\quizchain\\env\\lib\\site-packages (from pydantic<3,>=1.9.0->groq<1,>=0.30.0->langchain-groq) (0.7.0)\n",
      "Requirement already satisfied: pydantic-core==2.33.2 in c:\\users\\loq\\quizchain\\env\\lib\\site-packages (from pydantic<3,>=1.9.0->groq<1,>=0.30.0->langchain-groq) (2.33.2)\n",
      "Requirement already satisfied: typing-inspection>=0.4.0 in c:\\users\\loq\\quizchain\\env\\lib\\site-packages (from pydantic<3,>=1.9.0->groq<1,>=0.30.0->langchain-groq) (0.4.2)\n",
      "Requirement already satisfied: charset_normalizer<4,>=2 in c:\\users\\loq\\quizchain\\env\\lib\\site-packages (from requests>=2.0.0->langsmith<1.0.0,>=0.3.45->langchain-core<1.0.0,>=0.3.75->langchain-groq) (3.4.3)\n",
      "Requirement already satisfied: urllib3<3,>=1.21.1 in c:\\users\\loq\\quizchain\\env\\lib\\site-packages (from requests>=2.0.0->langsmith<1.0.0,>=0.3.45->langchain-core<1.0.0,>=0.3.75->langchain-groq) (2.5.0)\n",
      "Using cached langchain_groq-0.3.8-py3-none-any.whl (16 kB)\n",
      "Installing collected packages: langchain-groq\n",
      "Successfully installed langchain-groq-0.3.8\n",
      "Note: you may need to restart the kernel to use updated packages.\n"
     ]
    }
   ],
   "source": [
    "pip install langchain-groq"
   ]
  },
  {
   "cell_type": "code",
   "execution_count": 4,
   "id": "b08763b9",
   "metadata": {},
   "outputs": [],
   "source": [
    "from langchain_groq import ChatGroq"
   ]
  },
  {
   "cell_type": "code",
   "execution_count": 5,
   "id": "4462085d",
   "metadata": {},
   "outputs": [
    {
     "name": "stdout",
     "output_type": "stream",
     "text": [
      "Requirement already satisfied: python-dotenv in c:\\users\\loq\\quizchain\\env\\lib\\site-packages (1.1.1)\n"
     ]
    }
   ],
   "source": [
    "!pip install python-dotenv"
   ]
  },
  {
   "cell_type": "code",
   "execution_count": 6,
   "id": "5c859d34",
   "metadata": {},
   "outputs": [],
   "source": [
    "from dotenv import load_dotenv\n",
    "load_dotenv() # take environment variables from .env\n",
    "os.environ[\"GROQ_API_KEY\"]=os.getenv(\"GROQ_API_KEY\")"
   ]
  },
  {
   "cell_type": "code",
   "execution_count": 7,
   "id": "6a263247",
   "metadata": {},
   "outputs": [
    {
     "name": "stdout",
     "output_type": "stream",
     "text": [
      "Requirement already satisfied: langchain in c:\\users\\loq\\quizchain\\env\\lib\\site-packages (0.3.27)\n",
      "Requirement already satisfied: langchain-groq in c:\\users\\loq\\quizchain\\env\\lib\\site-packages (0.3.8)\n",
      "Requirement already satisfied: langchain-core<1.0.0,>=0.3.72 in c:\\users\\loq\\quizchain\\env\\lib\\site-packages (from langchain) (0.3.78)\n",
      "Requirement already satisfied: langchain-text-splitters<1.0.0,>=0.3.9 in c:\\users\\loq\\quizchain\\env\\lib\\site-packages (from langchain) (0.3.11)\n",
      "Requirement already satisfied: langsmith>=0.1.17 in c:\\users\\loq\\quizchain\\env\\lib\\site-packages (from langchain) (0.4.32)\n",
      "Requirement already satisfied: pydantic<3.0.0,>=2.7.4 in c:\\users\\loq\\quizchain\\env\\lib\\site-packages (from langchain) (2.11.10)\n",
      "Requirement already satisfied: SQLAlchemy<3,>=1.4 in c:\\users\\loq\\quizchain\\env\\lib\\site-packages (from langchain) (2.0.43)\n",
      "Requirement already satisfied: requests<3,>=2 in c:\\users\\loq\\quizchain\\env\\lib\\site-packages (from langchain) (2.32.5)\n",
      "Requirement already satisfied: PyYAML>=5.3 in c:\\users\\loq\\quizchain\\env\\lib\\site-packages (from langchain) (6.0.3)\n",
      "Requirement already satisfied: tenacity!=8.4.0,<10.0.0,>=8.1.0 in c:\\users\\loq\\quizchain\\env\\lib\\site-packages (from langchain-core<1.0.0,>=0.3.72->langchain) (9.1.2)\n",
      "Requirement already satisfied: jsonpatch<2.0.0,>=1.33.0 in c:\\users\\loq\\quizchain\\env\\lib\\site-packages (from langchain-core<1.0.0,>=0.3.72->langchain) (1.33)\n",
      "Requirement already satisfied: typing-extensions<5.0.0,>=4.7.0 in c:\\users\\loq\\quizchain\\env\\lib\\site-packages (from langchain-core<1.0.0,>=0.3.72->langchain) (4.15.0)\n",
      "Requirement already satisfied: packaging<26.0.0,>=23.2.0 in c:\\users\\loq\\quizchain\\env\\lib\\site-packages (from langchain-core<1.0.0,>=0.3.72->langchain) (25.0)\n",
      "Requirement already satisfied: jsonpointer>=1.9 in c:\\users\\loq\\quizchain\\env\\lib\\site-packages (from jsonpatch<2.0.0,>=1.33.0->langchain-core<1.0.0,>=0.3.72->langchain) (3.0.0)\n",
      "Requirement already satisfied: httpx<1,>=0.23.0 in c:\\users\\loq\\quizchain\\env\\lib\\site-packages (from langsmith>=0.1.17->langchain) (0.28.1)\n",
      "Requirement already satisfied: orjson>=3.9.14 in c:\\users\\loq\\quizchain\\env\\lib\\site-packages (from langsmith>=0.1.17->langchain) (3.11.3)\n",
      "Requirement already satisfied: requests-toolbelt>=1.0.0 in c:\\users\\loq\\quizchain\\env\\lib\\site-packages (from langsmith>=0.1.17->langchain) (1.0.0)\n",
      "Requirement already satisfied: zstandard>=0.23.0 in c:\\users\\loq\\quizchain\\env\\lib\\site-packages (from langsmith>=0.1.17->langchain) (0.25.0)\n",
      "Requirement already satisfied: anyio in c:\\users\\loq\\quizchain\\env\\lib\\site-packages (from httpx<1,>=0.23.0->langsmith>=0.1.17->langchain) (4.11.0)\n",
      "Requirement already satisfied: certifi in c:\\users\\loq\\quizchain\\env\\lib\\site-packages (from httpx<1,>=0.23.0->langsmith>=0.1.17->langchain) (2025.10.5)\n",
      "Requirement already satisfied: httpcore==1.* in c:\\users\\loq\\quizchain\\env\\lib\\site-packages (from httpx<1,>=0.23.0->langsmith>=0.1.17->langchain) (1.0.9)\n",
      "Requirement already satisfied: idna in c:\\users\\loq\\quizchain\\env\\lib\\site-packages (from httpx<1,>=0.23.0->langsmith>=0.1.17->langchain) (3.10)\n",
      "Requirement already satisfied: h11>=0.16 in c:\\users\\loq\\quizchain\\env\\lib\\site-packages (from httpcore==1.*->httpx<1,>=0.23.0->langsmith>=0.1.17->langchain) (0.16.0)\n",
      "Requirement already satisfied: annotated-types>=0.6.0 in c:\\users\\loq\\quizchain\\env\\lib\\site-packages (from pydantic<3.0.0,>=2.7.4->langchain) (0.7.0)\n",
      "Requirement already satisfied: pydantic-core==2.33.2 in c:\\users\\loq\\quizchain\\env\\lib\\site-packages (from pydantic<3.0.0,>=2.7.4->langchain) (2.33.2)\n",
      "Requirement already satisfied: typing-inspection>=0.4.0 in c:\\users\\loq\\quizchain\\env\\lib\\site-packages (from pydantic<3.0.0,>=2.7.4->langchain) (0.4.2)\n",
      "Requirement already satisfied: charset_normalizer<4,>=2 in c:\\users\\loq\\quizchain\\env\\lib\\site-packages (from requests<3,>=2->langchain) (3.4.3)\n",
      "Requirement already satisfied: urllib3<3,>=1.21.1 in c:\\users\\loq\\quizchain\\env\\lib\\site-packages (from requests<3,>=2->langchain) (2.5.0)\n",
      "Requirement already satisfied: greenlet>=1 in c:\\users\\loq\\quizchain\\env\\lib\\site-packages (from SQLAlchemy<3,>=1.4->langchain) (3.2.4)\n",
      "Requirement already satisfied: groq<1,>=0.30.0 in c:\\users\\loq\\quizchain\\env\\lib\\site-packages (from langchain-groq) (0.32.0)\n",
      "Requirement already satisfied: distro<2,>=1.7.0 in c:\\users\\loq\\quizchain\\env\\lib\\site-packages (from groq<1,>=0.30.0->langchain-groq) (1.9.0)\n",
      "Requirement already satisfied: sniffio in c:\\users\\loq\\quizchain\\env\\lib\\site-packages (from groq<1,>=0.30.0->langchain-groq) (1.3.1)\n"
     ]
    }
   ],
   "source": [
    "!pip install langchain langchain-groq"
   ]
  },
  {
   "cell_type": "code",
   "execution_count": 8,
   "id": "26eaa7ab",
   "metadata": {},
   "outputs": [
    {
     "name": "stdout",
     "output_type": "stream",
     "text": [
      "Collecting langchain-community\n",
      "  Using cached langchain_community-0.3.30-py3-none-any.whl.metadata (3.0 kB)\n",
      "Requirement already satisfied: langchain-core<2.0.0,>=0.3.75 in c:\\users\\loq\\quizchain\\env\\lib\\site-packages (from langchain-community) (0.3.78)\n",
      "Requirement already satisfied: langchain<2.0.0,>=0.3.27 in c:\\users\\loq\\quizchain\\env\\lib\\site-packages (from langchain-community) (0.3.27)\n",
      "Requirement already satisfied: SQLAlchemy<3.0.0,>=1.4.0 in c:\\users\\loq\\quizchain\\env\\lib\\site-packages (from langchain-community) (2.0.43)\n",
      "Requirement already satisfied: requests<3.0.0,>=2.32.5 in c:\\users\\loq\\quizchain\\env\\lib\\site-packages (from langchain-community) (2.32.5)\n",
      "Requirement already satisfied: PyYAML<7.0.0,>=5.3.0 in c:\\users\\loq\\quizchain\\env\\lib\\site-packages (from langchain-community) (6.0.3)\n",
      "Collecting aiohttp<4.0.0,>=3.8.3 (from langchain-community)\n",
      "  Using cached aiohttp-3.12.15-cp313-cp313-win_amd64.whl.metadata (7.9 kB)\n",
      "Requirement already satisfied: tenacity!=8.4.0,<10.0.0,>=8.1.0 in c:\\users\\loq\\quizchain\\env\\lib\\site-packages (from langchain-community) (9.1.2)\n",
      "Collecting dataclasses-json<0.7.0,>=0.6.7 (from langchain-community)\n",
      "  Using cached dataclasses_json-0.6.7-py3-none-any.whl.metadata (25 kB)\n",
      "Collecting pydantic-settings<3.0.0,>=2.10.1 (from langchain-community)\n",
      "  Using cached pydantic_settings-2.11.0-py3-none-any.whl.metadata (3.4 kB)\n",
      "Requirement already satisfied: langsmith<1.0.0,>=0.1.125 in c:\\users\\loq\\quizchain\\env\\lib\\site-packages (from langchain-community) (0.4.32)\n",
      "Collecting httpx-sse<1.0.0,>=0.4.0 (from langchain-community)\n",
      "  Using cached httpx_sse-0.4.1-py3-none-any.whl.metadata (9.4 kB)\n",
      "Requirement already satisfied: numpy>=2.1.0 in c:\\users\\loq\\quizchain\\env\\lib\\site-packages (from langchain-community) (2.3.3)\n",
      "Collecting aiohappyeyeballs>=2.5.0 (from aiohttp<4.0.0,>=3.8.3->langchain-community)\n",
      "  Using cached aiohappyeyeballs-2.6.1-py3-none-any.whl.metadata (5.9 kB)\n",
      "Collecting aiosignal>=1.4.0 (from aiohttp<4.0.0,>=3.8.3->langchain-community)\n",
      "  Using cached aiosignal-1.4.0-py3-none-any.whl.metadata (3.7 kB)\n",
      "Requirement already satisfied: attrs>=17.3.0 in c:\\users\\loq\\quizchain\\env\\lib\\site-packages (from aiohttp<4.0.0,>=3.8.3->langchain-community) (25.4.0)\n",
      "Collecting frozenlist>=1.1.1 (from aiohttp<4.0.0,>=3.8.3->langchain-community)\n",
      "  Downloading frozenlist-1.8.0-cp313-cp313-win_amd64.whl.metadata (21 kB)\n",
      "Collecting multidict<7.0,>=4.5 (from aiohttp<4.0.0,>=3.8.3->langchain-community)\n",
      "  Downloading multidict-6.7.0-cp313-cp313-win_amd64.whl.metadata (5.5 kB)\n",
      "Collecting propcache>=0.2.0 (from aiohttp<4.0.0,>=3.8.3->langchain-community)\n",
      "  Using cached propcache-0.4.0-cp313-cp313-win_amd64.whl.metadata (13 kB)\n",
      "Collecting yarl<2.0,>=1.17.0 (from aiohttp<4.0.0,>=3.8.3->langchain-community)\n",
      "  Downloading yarl-1.22.0-cp313-cp313-win_amd64.whl.metadata (77 kB)\n",
      "Collecting marshmallow<4.0.0,>=3.18.0 (from dataclasses-json<0.7.0,>=0.6.7->langchain-community)\n",
      "  Using cached marshmallow-3.26.1-py3-none-any.whl.metadata (7.3 kB)\n",
      "Collecting typing-inspect<1,>=0.4.0 (from dataclasses-json<0.7.0,>=0.6.7->langchain-community)\n",
      "  Using cached typing_inspect-0.9.0-py3-none-any.whl.metadata (1.5 kB)\n",
      "Requirement already satisfied: langchain-text-splitters<1.0.0,>=0.3.9 in c:\\users\\loq\\quizchain\\env\\lib\\site-packages (from langchain<2.0.0,>=0.3.27->langchain-community) (0.3.11)\n",
      "Requirement already satisfied: pydantic<3.0.0,>=2.7.4 in c:\\users\\loq\\quizchain\\env\\lib\\site-packages (from langchain<2.0.0,>=0.3.27->langchain-community) (2.11.10)\n",
      "Requirement already satisfied: jsonpatch<2.0.0,>=1.33.0 in c:\\users\\loq\\quizchain\\env\\lib\\site-packages (from langchain-core<2.0.0,>=0.3.75->langchain-community) (1.33)\n",
      "Requirement already satisfied: typing-extensions<5.0.0,>=4.7.0 in c:\\users\\loq\\quizchain\\env\\lib\\site-packages (from langchain-core<2.0.0,>=0.3.75->langchain-community) (4.15.0)\n",
      "Requirement already satisfied: packaging<26.0.0,>=23.2.0 in c:\\users\\loq\\quizchain\\env\\lib\\site-packages (from langchain-core<2.0.0,>=0.3.75->langchain-community) (25.0)\n",
      "Requirement already satisfied: jsonpointer>=1.9 in c:\\users\\loq\\quizchain\\env\\lib\\site-packages (from jsonpatch<2.0.0,>=1.33.0->langchain-core<2.0.0,>=0.3.75->langchain-community) (3.0.0)\n",
      "Requirement already satisfied: httpx<1,>=0.23.0 in c:\\users\\loq\\quizchain\\env\\lib\\site-packages (from langsmith<1.0.0,>=0.1.125->langchain-community) (0.28.1)\n",
      "Requirement already satisfied: orjson>=3.9.14 in c:\\users\\loq\\quizchain\\env\\lib\\site-packages (from langsmith<1.0.0,>=0.1.125->langchain-community) (3.11.3)\n",
      "Requirement already satisfied: requests-toolbelt>=1.0.0 in c:\\users\\loq\\quizchain\\env\\lib\\site-packages (from langsmith<1.0.0,>=0.1.125->langchain-community) (1.0.0)\n",
      "Requirement already satisfied: zstandard>=0.23.0 in c:\\users\\loq\\quizchain\\env\\lib\\site-packages (from langsmith<1.0.0,>=0.1.125->langchain-community) (0.25.0)\n",
      "Requirement already satisfied: anyio in c:\\users\\loq\\quizchain\\env\\lib\\site-packages (from httpx<1,>=0.23.0->langsmith<1.0.0,>=0.1.125->langchain-community) (4.11.0)\n",
      "Requirement already satisfied: certifi in c:\\users\\loq\\quizchain\\env\\lib\\site-packages (from httpx<1,>=0.23.0->langsmith<1.0.0,>=0.1.125->langchain-community) (2025.10.5)\n",
      "Requirement already satisfied: httpcore==1.* in c:\\users\\loq\\quizchain\\env\\lib\\site-packages (from httpx<1,>=0.23.0->langsmith<1.0.0,>=0.1.125->langchain-community) (1.0.9)\n",
      "Requirement already satisfied: idna in c:\\users\\loq\\quizchain\\env\\lib\\site-packages (from httpx<1,>=0.23.0->langsmith<1.0.0,>=0.1.125->langchain-community) (3.10)\n",
      "Requirement already satisfied: h11>=0.16 in c:\\users\\loq\\quizchain\\env\\lib\\site-packages (from httpcore==1.*->httpx<1,>=0.23.0->langsmith<1.0.0,>=0.1.125->langchain-community) (0.16.0)\n",
      "Requirement already satisfied: annotated-types>=0.6.0 in c:\\users\\loq\\quizchain\\env\\lib\\site-packages (from pydantic<3.0.0,>=2.7.4->langchain<2.0.0,>=0.3.27->langchain-community) (0.7.0)\n",
      "Requirement already satisfied: pydantic-core==2.33.2 in c:\\users\\loq\\quizchain\\env\\lib\\site-packages (from pydantic<3.0.0,>=2.7.4->langchain<2.0.0,>=0.3.27->langchain-community) (2.33.2)\n",
      "Requirement already satisfied: typing-inspection>=0.4.0 in c:\\users\\loq\\quizchain\\env\\lib\\site-packages (from pydantic<3.0.0,>=2.7.4->langchain<2.0.0,>=0.3.27->langchain-community) (0.4.2)\n",
      "Requirement already satisfied: python-dotenv>=0.21.0 in c:\\users\\loq\\quizchain\\env\\lib\\site-packages (from pydantic-settings<3.0.0,>=2.10.1->langchain-community) (1.1.1)\n",
      "Requirement already satisfied: charset_normalizer<4,>=2 in c:\\users\\loq\\quizchain\\env\\lib\\site-packages (from requests<3.0.0,>=2.32.5->langchain-community) (3.4.3)\n",
      "Requirement already satisfied: urllib3<3,>=1.21.1 in c:\\users\\loq\\quizchain\\env\\lib\\site-packages (from requests<3.0.0,>=2.32.5->langchain-community) (2.5.0)\n",
      "Requirement already satisfied: greenlet>=1 in c:\\users\\loq\\quizchain\\env\\lib\\site-packages (from SQLAlchemy<3.0.0,>=1.4.0->langchain-community) (3.2.4)\n",
      "Collecting mypy-extensions>=0.3.0 (from typing-inspect<1,>=0.4.0->dataclasses-json<0.7.0,>=0.6.7->langchain-community)\n",
      "  Using cached mypy_extensions-1.1.0-py3-none-any.whl.metadata (1.1 kB)\n",
      "Requirement already satisfied: sniffio>=1.1 in c:\\users\\loq\\quizchain\\env\\lib\\site-packages (from anyio->httpx<1,>=0.23.0->langsmith<1.0.0,>=0.1.125->langchain-community) (1.3.1)\n",
      "Using cached langchain_community-0.3.30-py3-none-any.whl (2.5 MB)\n",
      "Using cached aiohttp-3.12.15-cp313-cp313-win_amd64.whl (449 kB)\n",
      "Using cached dataclasses_json-0.6.7-py3-none-any.whl (28 kB)\n",
      "Using cached httpx_sse-0.4.1-py3-none-any.whl (8.1 kB)\n",
      "Using cached marshmallow-3.26.1-py3-none-any.whl (50 kB)\n",
      "Downloading multidict-6.7.0-cp313-cp313-win_amd64.whl (45 kB)\n",
      "Using cached pydantic_settings-2.11.0-py3-none-any.whl (48 kB)\n",
      "Using cached typing_inspect-0.9.0-py3-none-any.whl (8.8 kB)\n",
      "Downloading yarl-1.22.0-cp313-cp313-win_amd64.whl (86 kB)\n",
      "Using cached aiohappyeyeballs-2.6.1-py3-none-any.whl (15 kB)\n",
      "Using cached aiosignal-1.4.0-py3-none-any.whl (7.5 kB)\n",
      "Downloading frozenlist-1.8.0-cp313-cp313-win_amd64.whl (43 kB)\n",
      "Using cached mypy_extensions-1.1.0-py3-none-any.whl (5.0 kB)\n",
      "Using cached propcache-0.4.0-cp313-cp313-win_amd64.whl (40 kB)\n",
      "Installing collected packages: propcache, mypy-extensions, multidict, marshmallow, httpx-sse, frozenlist, aiohappyeyeballs, yarl, typing-inspect, aiosignal, pydantic-settings, dataclasses-json, aiohttp, langchain-community\n",
      "\n",
      "   ----- ----------------------------------  2/14 [multidict]\n",
      "   -------- -------------------------------  3/14 [marshmallow]\n",
      "   -------- -------------------------------  3/14 [marshmallow]\n",
      "   -------- -------------------------------  3/14 [marshmallow]\n",
      "   -------------- -------------------------  5/14 [frozenlist]\n",
      "   ----------------- ----------------------  6/14 [aiohappyeyeballs]\n",
      "   -------------------- -------------------  7/14 [yarl]\n",
      "   ---------------------- -----------------  8/14 [typing-inspect]\n",
      "   ---------------------------- ----------- 10/14 [pydantic-settings]\n",
      "   ---------------------------- ----------- 10/14 [pydantic-settings]\n",
      "   ---------------------------- ----------- 10/14 [pydantic-settings]\n",
      "   ---------------------------- ----------- 10/14 [pydantic-settings]\n",
      "   ------------------------------- -------- 11/14 [dataclasses-json]\n",
      "   ---------------------------------- ----- 12/14 [aiohttp]\n",
      "   ---------------------------------- ----- 12/14 [aiohttp]\n",
      "   ---------------------------------- ----- 12/14 [aiohttp]\n",
      "   ---------------------------------- ----- 12/14 [aiohttp]\n",
      "   ---------------------------------- ----- 12/14 [aiohttp]\n",
      "   ---------------------------------- ----- 12/14 [aiohttp]\n",
      "   ---------------------------------- ----- 12/14 [aiohttp]\n",
      "   ---------------------------------- ----- 12/14 [aiohttp]\n",
      "   ---------------------------------- ----- 12/14 [aiohttp]\n",
      "   ---------------------------------- ----- 12/14 [aiohttp]\n",
      "   ---------------------------------- ----- 12/14 [aiohttp]\n",
      "   ---------------------------------- ----- 12/14 [aiohttp]\n",
      "   ------------------------------------- -- 13/14 [langchain-community]\n",
      "   ------------------------------------- -- 13/14 [langchain-community]\n",
      "   ------------------------------------- -- 13/14 [langchain-community]\n",
      "   ------------------------------------- -- 13/14 [langchain-community]\n",
      "   ------------------------------------- -- 13/14 [langchain-community]\n",
      "   ------------------------------------- -- 13/14 [langchain-community]\n",
      "   ------------------------------------- -- 13/14 [langchain-community]\n",
      "   ------------------------------------- -- 13/14 [langchain-community]\n",
      "   ------------------------------------- -- 13/14 [langchain-community]\n",
      "   ------------------------------------- -- 13/14 [langchain-community]\n",
      "   ------------------------------------- -- 13/14 [langchain-community]\n",
      "   ------------------------------------- -- 13/14 [langchain-community]\n",
      "   ------------------------------------- -- 13/14 [langchain-community]\n",
      "   ------------------------------------- -- 13/14 [langchain-community]\n",
      "   ------------------------------------- -- 13/14 [langchain-community]\n",
      "   ------------------------------------- -- 13/14 [langchain-community]\n",
      "   ------------------------------------- -- 13/14 [langchain-community]\n",
      "   ------------------------------------- -- 13/14 [langchain-community]\n",
      "   ------------------------------------- -- 13/14 [langchain-community]\n",
      "   ------------------------------------- -- 13/14 [langchain-community]\n",
      "   ------------------------------------- -- 13/14 [langchain-community]\n",
      "   ------------------------------------- -- 13/14 [langchain-community]\n",
      "   ------------------------------------- -- 13/14 [langchain-community]\n",
      "   ------------------------------------- -- 13/14 [langchain-community]\n",
      "   ------------------------------------- -- 13/14 [langchain-community]\n",
      "   ------------------------------------- -- 13/14 [langchain-community]\n",
      "   ------------------------------------- -- 13/14 [langchain-community]\n",
      "   ------------------------------------- -- 13/14 [langchain-community]\n",
      "   ------------------------------------- -- 13/14 [langchain-community]\n",
      "   ------------------------------------- -- 13/14 [langchain-community]\n",
      "   ------------------------------------- -- 13/14 [langchain-community]\n",
      "   ------------------------------------- -- 13/14 [langchain-community]\n",
      "   ------------------------------------- -- 13/14 [langchain-community]\n",
      "   ------------------------------------- -- 13/14 [langchain-community]\n",
      "   ------------------------------------- -- 13/14 [langchain-community]\n",
      "   ------------------------------------- -- 13/14 [langchain-community]\n",
      "   ------------------------------------- -- 13/14 [langchain-community]\n",
      "   ------------------------------------- -- 13/14 [langchain-community]\n",
      "   ------------------------------------- -- 13/14 [langchain-community]\n",
      "   ------------------------------------- -- 13/14 [langchain-community]\n",
      "   ------------------------------------- -- 13/14 [langchain-community]\n",
      "   ------------------------------------- -- 13/14 [langchain-community]\n",
      "   ------------------------------------- -- 13/14 [langchain-community]\n",
      "   ------------------------------------- -- 13/14 [langchain-community]\n",
      "   ------------------------------------- -- 13/14 [langchain-community]\n",
      "   ------------------------------------- -- 13/14 [langchain-community]\n",
      "   ------------------------------------- -- 13/14 [langchain-community]\n",
      "   ------------------------------------- -- 13/14 [langchain-community]\n",
      "   ------------------------------------- -- 13/14 [langchain-community]\n",
      "   ------------------------------------- -- 13/14 [langchain-community]\n",
      "   ------------------------------------- -- 13/14 [langchain-community]\n",
      "   ------------------------------------- -- 13/14 [langchain-community]\n",
      "   ------------------------------------- -- 13/14 [langchain-community]\n",
      "   ------------------------------------- -- 13/14 [langchain-community]\n",
      "   ------------------------------------- -- 13/14 [langchain-community]\n",
      "   ------------------------------------- -- 13/14 [langchain-community]\n",
      "   ------------------------------------- -- 13/14 [langchain-community]\n",
      "   ------------------------------------- -- 13/14 [langchain-community]\n",
      "   ------------------------------------- -- 13/14 [langchain-community]\n",
      "   ------------------------------------- -- 13/14 [langchain-community]\n",
      "   ------------------------------------- -- 13/14 [langchain-community]\n",
      "   ------------------------------------- -- 13/14 [langchain-community]\n",
      "   ------------------------------------- -- 13/14 [langchain-community]\n",
      "   ------------------------------------- -- 13/14 [langchain-community]\n",
      "   ------------------------------------- -- 13/14 [langchain-community]\n",
      "   ------------------------------------- -- 13/14 [langchain-community]\n",
      "   ------------------------------------- -- 13/14 [langchain-community]\n",
      "   ------------------------------------- -- 13/14 [langchain-community]\n",
      "   ------------------------------------- -- 13/14 [langchain-community]\n",
      "   ------------------------------------- -- 13/14 [langchain-community]\n",
      "   ------------------------------------- -- 13/14 [langchain-community]\n",
      "   ------------------------------------- -- 13/14 [langchain-community]\n",
      "   ------------------------------------- -- 13/14 [langchain-community]\n",
      "   ------------------------------------- -- 13/14 [langchain-community]\n",
      "   ------------------------------------- -- 13/14 [langchain-community]\n",
      "   ------------------------------------- -- 13/14 [langchain-community]\n",
      "   ------------------------------------- -- 13/14 [langchain-community]\n",
      "   ------------------------------------- -- 13/14 [langchain-community]\n",
      "   ------------------------------------- -- 13/14 [langchain-community]\n",
      "   ------------------------------------- -- 13/14 [langchain-community]\n",
      "   ------------------------------------- -- 13/14 [langchain-community]\n",
      "   ------------------------------------- -- 13/14 [langchain-community]\n",
      "   ------------------------------------- -- 13/14 [langchain-community]\n",
      "   ------------------------------------- -- 13/14 [langchain-community]\n",
      "   ------------------------------------- -- 13/14 [langchain-community]\n",
      "   ------------------------------------- -- 13/14 [langchain-community]\n",
      "   ------------------------------------- -- 13/14 [langchain-community]\n",
      "   ------------------------------------- -- 13/14 [langchain-community]\n",
      "   ------------------------------------- -- 13/14 [langchain-community]\n",
      "   ------------------------------------- -- 13/14 [langchain-community]\n",
      "   ------------------------------------- -- 13/14 [langchain-community]\n",
      "   ------------------------------------- -- 13/14 [langchain-community]\n",
      "   ------------------------------------- -- 13/14 [langchain-community]\n",
      "   ------------------------------------- -- 13/14 [langchain-community]\n",
      "   ------------------------------------- -- 13/14 [langchain-community]\n",
      "   ------------------------------------- -- 13/14 [langchain-community]\n",
      "   ------------------------------------- -- 13/14 [langchain-community]\n",
      "   ------------------------------------- -- 13/14 [langchain-community]\n",
      "   ------------------------------------- -- 13/14 [langchain-community]\n",
      "   ------------------------------------- -- 13/14 [langchain-community]\n",
      "   ------------------------------------- -- 13/14 [langchain-community]\n",
      "   ------------------------------------- -- 13/14 [langchain-community]\n",
      "   ------------------------------------- -- 13/14 [langchain-community]\n",
      "   ------------------------------------- -- 13/14 [langchain-community]\n",
      "   ------------------------------------- -- 13/14 [langchain-community]\n",
      "   ------------------------------------- -- 13/14 [langchain-community]\n",
      "   ------------------------------------- -- 13/14 [langchain-community]\n",
      "   ------------------------------------- -- 13/14 [langchain-community]\n",
      "   ------------------------------------- -- 13/14 [langchain-community]\n",
      "   ------------------------------------- -- 13/14 [langchain-community]\n",
      "   ------------------------------------- -- 13/14 [langchain-community]\n",
      "   ------------------------------------- -- 13/14 [langchain-community]\n",
      "   ------------------------------------- -- 13/14 [langchain-community]\n",
      "   ------------------------------------- -- 13/14 [langchain-community]\n",
      "   ------------------------------------- -- 13/14 [langchain-community]\n",
      "   ------------------------------------- -- 13/14 [langchain-community]\n",
      "   ------------------------------------- -- 13/14 [langchain-community]\n",
      "   ------------------------------------- -- 13/14 [langchain-community]\n",
      "   ------------------------------------- -- 13/14 [langchain-community]\n",
      "   ------------------------------------- -- 13/14 [langchain-community]\n",
      "   ------------------------------------- -- 13/14 [langchain-community]\n",
      "   ------------------------------------- -- 13/14 [langchain-community]\n",
      "   ------------------------------------- -- 13/14 [langchain-community]\n",
      "   ------------------------------------- -- 13/14 [langchain-community]\n",
      "   ------------------------------------- -- 13/14 [langchain-community]\n",
      "   ------------------------------------- -- 13/14 [langchain-community]\n",
      "   ------------------------------------- -- 13/14 [langchain-community]\n",
      "   ------------------------------------- -- 13/14 [langchain-community]\n",
      "   ------------------------------------- -- 13/14 [langchain-community]\n",
      "   ------------------------------------- -- 13/14 [langchain-community]\n",
      "   ------------------------------------- -- 13/14 [langchain-community]\n",
      "   ------------------------------------- -- 13/14 [langchain-community]\n",
      "   ------------------------------------- -- 13/14 [langchain-community]\n",
      "   ------------------------------------- -- 13/14 [langchain-community]\n",
      "   ------------------------------------- -- 13/14 [langchain-community]\n",
      "   ------------------------------------- -- 13/14 [langchain-community]\n",
      "   ------------------------------------- -- 13/14 [langchain-community]\n",
      "   ------------------------------------- -- 13/14 [langchain-community]\n",
      "   ------------------------------------- -- 13/14 [langchain-community]\n",
      "   ------------------------------------- -- 13/14 [langchain-community]\n",
      "   ------------------------------------- -- 13/14 [langchain-community]\n",
      "   ------------------------------------- -- 13/14 [langchain-community]\n",
      "   ------------------------------------- -- 13/14 [langchain-community]\n",
      "   ------------------------------------- -- 13/14 [langchain-community]\n",
      "   ------------------------------------- -- 13/14 [langchain-community]\n",
      "   ------------------------------------- -- 13/14 [langchain-community]\n",
      "   ------------------------------------- -- 13/14 [langchain-community]\n",
      "   ------------------------------------- -- 13/14 [langchain-community]\n",
      "   ------------------------------------- -- 13/14 [langchain-community]\n",
      "   ------------------------------------- -- 13/14 [langchain-community]\n",
      "   ------------------------------------- -- 13/14 [langchain-community]\n",
      "   ------------------------------------- -- 13/14 [langchain-community]\n",
      "   ------------------------------------- -- 13/14 [langchain-community]\n",
      "   ------------------------------------- -- 13/14 [langchain-community]\n",
      "   ------------------------------------- -- 13/14 [langchain-community]\n",
      "   ------------------------------------- -- 13/14 [langchain-community]\n",
      "   ------------------------------------- -- 13/14 [langchain-community]\n",
      "   ------------------------------------- -- 13/14 [langchain-community]\n",
      "   ------------------------------------- -- 13/14 [langchain-community]\n",
      "   ------------------------------------- -- 13/14 [langchain-community]\n",
      "   ------------------------------------- -- 13/14 [langchain-community]\n",
      "   ------------------------------------- -- 13/14 [langchain-community]\n",
      "   ------------------------------------- -- 13/14 [langchain-community]\n",
      "   ------------------------------------- -- 13/14 [langchain-community]\n",
      "   ------------------------------------- -- 13/14 [langchain-community]\n",
      "   ------------------------------------- -- 13/14 [langchain-community]\n",
      "   ------------------------------------- -- 13/14 [langchain-community]\n",
      "   ------------------------------------- -- 13/14 [langchain-community]\n",
      "   ------------------------------------- -- 13/14 [langchain-community]\n",
      "   ------------------------------------- -- 13/14 [langchain-community]\n",
      "   ------------------------------------- -- 13/14 [langchain-community]\n",
      "   ------------------------------------- -- 13/14 [langchain-community]\n",
      "   ------------------------------------- -- 13/14 [langchain-community]\n",
      "   ------------------------------------- -- 13/14 [langchain-community]\n",
      "   ------------------------------------- -- 13/14 [langchain-community]\n",
      "   ------------------------------------- -- 13/14 [langchain-community]\n",
      "   ------------------------------------- -- 13/14 [langchain-community]\n",
      "   ------------------------------------- -- 13/14 [langchain-community]\n",
      "   ------------------------------------- -- 13/14 [langchain-community]\n",
      "   ------------------------------------- -- 13/14 [langchain-community]\n",
      "   ------------------------------------- -- 13/14 [langchain-community]\n",
      "   ------------------------------------- -- 13/14 [langchain-community]\n",
      "   ------------------------------------- -- 13/14 [langchain-community]\n",
      "   ------------------------------------- -- 13/14 [langchain-community]\n",
      "   ------------------------------------- -- 13/14 [langchain-community]\n",
      "   ------------------------------------- -- 13/14 [langchain-community]\n",
      "   ------------------------------------- -- 13/14 [langchain-community]\n",
      "   ------------------------------------- -- 13/14 [langchain-community]\n",
      "   ------------------------------------- -- 13/14 [langchain-community]\n",
      "   ------------------------------------- -- 13/14 [langchain-community]\n",
      "   ------------------------------------- -- 13/14 [langchain-community]\n",
      "   ------------------------------------- -- 13/14 [langchain-community]\n",
      "   ------------------------------------- -- 13/14 [langchain-community]\n",
      "   ------------------------------------- -- 13/14 [langchain-community]\n",
      "   ------------------------------------- -- 13/14 [langchain-community]\n",
      "   ------------------------------------- -- 13/14 [langchain-community]\n",
      "   ------------------------------------- -- 13/14 [langchain-community]\n",
      "   ------------------------------------- -- 13/14 [langchain-community]\n",
      "   ------------------------------------- -- 13/14 [langchain-community]\n",
      "   ------------------------------------- -- 13/14 [langchain-community]\n",
      "   ------------------------------------- -- 13/14 [langchain-community]\n",
      "   ------------------------------------- -- 13/14 [langchain-community]\n",
      "   ------------------------------------- -- 13/14 [langchain-community]\n",
      "   ------------------------------------- -- 13/14 [langchain-community]\n",
      "   ---------------------------------------- 14/14 [langchain-community]\n",
      "\n",
      "Successfully installed aiohappyeyeballs-2.6.1 aiohttp-3.12.15 aiosignal-1.4.0 dataclasses-json-0.6.7 frozenlist-1.8.0 httpx-sse-0.4.1 langchain-community-0.3.30 marshmallow-3.26.1 multidict-6.7.0 mypy-extensions-1.1.0 propcache-0.4.0 pydantic-settings-2.11.0 typing-inspect-0.9.0 yarl-1.22.0\n"
     ]
    }
   ],
   "source": [
    "!pip install -U langchain-community"
   ]
  },
  {
   "cell_type": "code",
   "execution_count": 9,
   "id": "63ad6a3c",
   "metadata": {},
   "outputs": [
    {
     "name": "stdout",
     "output_type": "stream",
     "text": [
      "Requirement already satisfied: pypdf in c:\\users\\loq\\quizchain\\env\\lib\\site-packages (6.1.1)\n"
     ]
    }
   ],
   "source": [
    "!pip install pypdf"
   ]
  },
  {
   "cell_type": "code",
   "execution_count": 10,
   "id": "38d81867",
   "metadata": {},
   "outputs": [],
   "source": [
    "from langchain_groq import ChatGroq  # correct Groq import\n",
    "from langchain.prompts import PromptTemplate\n",
    "from langchain.chains import LLMChain, SequentialChain\n",
    "import pypdf  # if you plan to read PDFs"
   ]
  },
  {
   "cell_type": "code",
   "execution_count": 11,
   "id": "d0ab1a28",
   "metadata": {},
   "outputs": [],
   "source": [
    "llm = ChatGroq(\n",
    "    groq_api_key=os.environ[\"GROQ_API_KEY\"],  # replace with your actual key\n",
    "    model_name=\"llama-3.1-8b-instant\",\n",
    "    temperature=0.7         # or \"mixtral-8x7b\" / other available model\n",
    ")"
   ]
  },
  {
   "cell_type": "code",
   "execution_count": 12,
   "id": "4ef1ebc3",
   "metadata": {},
   "outputs": [],
   "source": [
    "RESPONSE_JSON={\n",
    "    \"1\":{\n",
    "        \"mcq\": \"multiple choice question\",\n",
    "        \"options\":{\n",
    "            \"a\": \"Choice here\",\n",
    "            \"b\": \"Choice here\",\n",
    "            \"c\": \"Choice here\",\n",
    "            \"d\": \"Choice here\",\n",
    "            },\n",
    "            \"correct\": \"correct answer\",\n",
    "            },\n",
    "    \"2\":{\n",
    "        \"mcq\": \"multiple choice question\",\n",
    "        \"options\":{\n",
    "            \"a\": \"Choice here\",\n",
    "            \"b\": \"Choice here\",\n",
    "            \"c\": \"Choice here\",\n",
    "            \"d\": \"Choice here\",\n",
    "            },\n",
    "            },\n",
    "    \"3\":{\n",
    "        \"mcq\": \"multiple choice question\",\n",
    "        \"options\":{\n",
    "            \"a\": \"Choice here\",\n",
    "            \"b\": \"Choice here\",\n",
    "            \"c\": \"Choice here\",\n",
    "            \"d\": \"Choice here\",\n",
    "            },\n",
    "\n",
    "    }\n",
    "}"
   ]
  },
  {
   "cell_type": "code",
   "execution_count": 13,
   "id": "90a4cafe",
   "metadata": {},
   "outputs": [],
   "source": [
    "TEMPLATE=\"\"\"\n",
    "Text: {text}\n",
    "You are an expert MCQ maker. Given the above text, it is your job to \\\n",
    "create a quiz of {number} multiple choice questions for {subject} students in {tone} tone. \n",
    "Make sure the questions are not repeated and check all the questions to be conforming the text as well.\n",
    "Make sure to format your response like RESPONSE_JSON below and use it as a guide.\\\n",
    "Ensure to make {number} MCQs\n",
    "### RESPONSE_JSON\n",
    "{response_json}\n",
    "\"\"\""
   ]
  },
  {
   "cell_type": "code",
   "execution_count": 14,
   "id": "297ff34d",
   "metadata": {},
   "outputs": [],
   "source": [
    "quiz_generation_prompt=PromptTemplate(\n",
    "    input_variables=[\"text\",\"number\",\"subject\",\"tone\",\"response_json\"],\n",
    "    template=TEMPLATE \n",
    ")"
   ]
  },
  {
   "cell_type": "code",
   "execution_count": 15,
   "id": "144c18c3",
   "metadata": {},
   "outputs": [
    {
     "name": "stderr",
     "output_type": "stream",
     "text": [
      "C:\\Users\\LOQ\\AppData\\Local\\Temp\\ipykernel_9296\\2669661367.py:1: LangChainDeprecationWarning: The class `LLMChain` was deprecated in LangChain 0.1.17 and will be removed in 1.0. Use :meth:`~RunnableSequence, e.g., `prompt | llm`` instead.\n",
      "  quiz_chain=LLMChain(llm=llm, prompt=quiz_generation_prompt, output_key=\"quiz\", verbose=True)\n"
     ]
    }
   ],
   "source": [
    "quiz_chain=LLMChain(llm=llm, prompt=quiz_generation_prompt, output_key=\"quiz\", verbose=True)"
   ]
  },
  {
   "cell_type": "code",
   "execution_count": 16,
   "id": "6d8404f3",
   "metadata": {},
   "outputs": [],
   "source": [
    "TEMPLATE2=\"\"\"\n",
    "You are an expert english grammarian and writer. Given a Multiple Choice Quiz for {subject} students.\\\n",
    "You need to evaluate the complexity of the question and give a complete analysis of the quiz. Only use at max 50 words form complexity\n",
    "if the quiz is not at per with the cognitive and analytical abilities of the students.\\\n",
    "update the quiz questions which needs to be changed and change the tone such that it perfectly fits the student abilities\n",
    "Quiz_MCQs:\n",
    "{quiz}\n",
    "Check from an expert English Writer of the above quiz: \n",
    "\"\"\""
   ]
  },
  {
   "cell_type": "code",
   "execution_count": 17,
   "id": "365c3bb3",
   "metadata": {},
   "outputs": [],
   "source": [
    "quiz_evaluation_prompt=PromptTemplate(input_variables=[\"subject\",\"quiz\"], template=TEMPLATE)"
   ]
  },
  {
   "cell_type": "code",
   "execution_count": 18,
   "id": "53c6cf96",
   "metadata": {},
   "outputs": [],
   "source": [
    "review_chain=LLMChain(llm=llm, prompt=quiz_evaluation_prompt, output_key=\"review\", verbose=True)"
   ]
  },
  {
   "cell_type": "code",
   "execution_count": 19,
   "id": "a850b76b",
   "metadata": {},
   "outputs": [],
   "source": [
    "generate_evaluate_chain = SequentialChain(\n",
    "    chains=[quiz_chain, review_chain],\n",
    "    input_variables=[\"text\", \"number\", \"subject\", \"tone\", \"response_json\"],\n",
    "    output_variables=[\"quiz\", \"review\"],\n",
    "    verbose=True\n",
    ")"
   ]
  },
  {
   "cell_type": "code",
   "execution_count": 20,
   "id": "22d1efd9",
   "metadata": {},
   "outputs": [],
   "source": [
    "file_path=r\"C:\\Users\\LOQ\\QuizChain\\data.txt\""
   ]
  },
  {
   "cell_type": "code",
   "execution_count": 21,
   "id": "988d6ac1",
   "metadata": {},
   "outputs": [],
   "source": [
    "with open(r\"C:\\Users\\LOQ\\QuizChain\\data.txt\", \"r\", encoding=\"utf-8\") as f:\n",
    "    TEXT = f.read()"
   ]
  },
  {
   "cell_type": "code",
   "execution_count": 22,
   "id": "e0330e3f",
   "metadata": {},
   "outputs": [
    {
     "data": {
      "text/plain": [
       "'{\"1\": {\"mcq\": \"multiple choice question\", \"options\": {\"a\": \"Choice here\", \"b\": \"Choice here\", \"c\": \"Choice here\", \"d\": \"Choice here\"}, \"correct\": \"correct answer\"}, \"2\": {\"mcq\": \"multiple choice question\", \"options\": {\"a\": \"Choice here\", \"b\": \"Choice here\", \"c\": \"Choice here\", \"d\": \"Choice here\"}}, \"3\": {\"mcq\": \"multiple choice question\", \"options\": {\"a\": \"Choice here\", \"b\": \"Choice here\", \"c\": \"Choice here\", \"d\": \"Choice here\"}}}'"
      ]
     },
     "execution_count": 22,
     "metadata": {},
     "output_type": "execute_result"
    }
   ],
   "source": [
    "# Serialize the Python dictionary into a JSON-formatted string\n",
    "json.dumps(RESPONSE_JSON)"
   ]
  },
  {
   "cell_type": "code",
   "execution_count": 23,
   "id": "cbcc0c48",
   "metadata": {},
   "outputs": [],
   "source": [
    "NUMBER=5\n",
    "SUBJECT=\"machine learning\"\n",
    "TONE=\"simple\""
   ]
  },
  {
   "cell_type": "code",
   "execution_count": 27,
   "id": "dd3d7f02",
   "metadata": {},
   "outputs": [
    {
     "name": "stdout",
     "output_type": "stream",
     "text": [
      "\n",
      "\n",
      "\u001b[1m> Entering new SequentialChain chain...\u001b[0m\n",
      "\n",
      "\n",
      "\u001b[1m> Entering new LLMChain chain...\u001b[0m\n",
      "Prompt after formatting:\n",
      "\u001b[32;1m\u001b[1;3m\n",
      "Text: The term machine learning was coined in 1959 by Arthur Samuel, an IBM employee and pioneer in the field of computer gaming and artificial intelligence.[6][7] The synonym self-teaching computers was also used in this time period.[8][9]\n",
      "\n",
      "The earliest machine learning program was introduced in the 1950s when Arthur Samuel invented a computer program that calculated the winning chance in checkers for each side, but the history of machine learning roots back to decades of human desire and effort to study human cognitive processes.[10] In 1949, Canadian psychologist Donald Hebb published the book The Organization of Behavior, in which he introduced a theoretical neural structure formed by certain interactions among nerve cells.[11] Hebb's model of neurons interacting with one another set a groundwork for how AIs and machine learning algorithms work under nodes, or artificial neurons used by computers to communicate data.[10] Other researchers who have studied human cognitive systems contributed to the modern machine learning technologies as well, including logician Walter Pitts and Warren McCulloch, who proposed the early mathematical models of neural networks to come up with algorithms that mirror human thought processes.[10]\n",
      "\n",
      "By the early 1960s, an experimental \"learning machine\" with punched tape memory, called Cybertron, had been developed by Raytheon Company to analyse sonar signals, electrocardiograms, and speech patterns using rudimentary reinforcement learning. It was repetitively \"trained\" by a human operator/teacher to recognise patterns and equipped with a \"goof\" button to cause it to reevaluate incorrect decisions.[12] A representative book on research into machine learning during the 1960s was Nilsson's book on Learning Machines, dealing mostly with machine learning for pattern classification.[13] Interest related to pattern recognition continued into the 1970s, as described by Duda and Hart in 1973.[14] In 1981, a report was given on using teaching strategies so that an artificial neural network learns to recognise 40 characters (26 letters, 10 digits, and 4 special symbols) from a computer terminal.[15]\n",
      "\n",
      "Tom M. Mitchell provided a widely quoted, more formal definition of the algorithms studied in the machine learning field: \"A computer program is said to learn from experience E with respect to some class of tasks T and performance measure P if its performance at tasks in T, as measured by P, improves with experience E.\"[16] This definition of the tasks in which machine learning is concerned offers a fundamentally operational definition rather than defining the field in cognitive terms. This follows Alan Turing's proposal in his paper \"Computing Machinery and Intelligence\", in which the question \"Can machines think?\" is replaced with the question \"Can machines do what we (as thinking entities) can do?\".[17]\n",
      "\n",
      "Modern day Machine Learning algorithms are broken into 3 algorithms types: Supervised Learning Algorithms, Unsupervised Learning Algorithms, and Reinforcement Learning Algorithms.[18]\n",
      "\n",
      "Current Supervised Learning Algorithms have objectives of classification and regression.\n",
      "Current Unsupervised Learning Algorithms have objectives of clustering, dimensionality reduction, and association rule.\n",
      "Current Reinforcement Learning Algorithms focus on decisions that must be made with respect to some previous, unknown time and are broken down to either be studies of model based methods, and model free methods.\n",
      "You are an expert MCQ maker. Given the above text, it is your job to create a quiz of 5 multiple choice questions for machine learning students in simple tone. \n",
      "Make sure the questions are not repeated and check all the questions to be conforming the text as well.\n",
      "Make sure to format your response like RESPONSE_JSON below and use it as a guide.Ensure to make 5 MCQs\n",
      "### RESPONSE_JSON\n",
      "{\"1\": {\"mcq\": \"multiple choice question\", \"options\": {\"a\": \"Choice here\", \"b\": \"Choice here\", \"c\": \"Choice here\", \"d\": \"Choice here\"}, \"correct\": \"correct answer\"}, \"2\": {\"mcq\": \"multiple choice question\", \"options\": {\"a\": \"Choice here\", \"b\": \"Choice here\", \"c\": \"Choice here\", \"d\": \"Choice here\"}}, \"3\": {\"mcq\": \"multiple choice question\", \"options\": {\"a\": \"Choice here\", \"b\": \"Choice here\", \"c\": \"Choice here\", \"d\": \"Choice here\"}}}\n",
      "\u001b[0m\n",
      "\n",
      "\u001b[1m> Finished chain.\u001b[0m\n",
      "\n",
      "\n",
      "\u001b[1m> Entering new LLMChain chain...\u001b[0m\n",
      "Prompt after formatting:\n",
      "\u001b[32;1m\u001b[1;3m\n",
      "Text: The term machine learning was coined in 1959 by Arthur Samuel, an IBM employee and pioneer in the field of computer gaming and artificial intelligence.[6][7] The synonym self-teaching computers was also used in this time period.[8][9]\n",
      "\n",
      "The earliest machine learning program was introduced in the 1950s when Arthur Samuel invented a computer program that calculated the winning chance in checkers for each side, but the history of machine learning roots back to decades of human desire and effort to study human cognitive processes.[10] In 1949, Canadian psychologist Donald Hebb published the book The Organization of Behavior, in which he introduced a theoretical neural structure formed by certain interactions among nerve cells.[11] Hebb's model of neurons interacting with one another set a groundwork for how AIs and machine learning algorithms work under nodes, or artificial neurons used by computers to communicate data.[10] Other researchers who have studied human cognitive systems contributed to the modern machine learning technologies as well, including logician Walter Pitts and Warren McCulloch, who proposed the early mathematical models of neural networks to come up with algorithms that mirror human thought processes.[10]\n",
      "\n",
      "By the early 1960s, an experimental \"learning machine\" with punched tape memory, called Cybertron, had been developed by Raytheon Company to analyse sonar signals, electrocardiograms, and speech patterns using rudimentary reinforcement learning. It was repetitively \"trained\" by a human operator/teacher to recognise patterns and equipped with a \"goof\" button to cause it to reevaluate incorrect decisions.[12] A representative book on research into machine learning during the 1960s was Nilsson's book on Learning Machines, dealing mostly with machine learning for pattern classification.[13] Interest related to pattern recognition continued into the 1970s, as described by Duda and Hart in 1973.[14] In 1981, a report was given on using teaching strategies so that an artificial neural network learns to recognise 40 characters (26 letters, 10 digits, and 4 special symbols) from a computer terminal.[15]\n",
      "\n",
      "Tom M. Mitchell provided a widely quoted, more formal definition of the algorithms studied in the machine learning field: \"A computer program is said to learn from experience E with respect to some class of tasks T and performance measure P if its performance at tasks in T, as measured by P, improves with experience E.\"[16] This definition of the tasks in which machine learning is concerned offers a fundamentally operational definition rather than defining the field in cognitive terms. This follows Alan Turing's proposal in his paper \"Computing Machinery and Intelligence\", in which the question \"Can machines think?\" is replaced with the question \"Can machines do what we (as thinking entities) can do?\".[17]\n",
      "\n",
      "Modern day Machine Learning algorithms are broken into 3 algorithms types: Supervised Learning Algorithms, Unsupervised Learning Algorithms, and Reinforcement Learning Algorithms.[18]\n",
      "\n",
      "Current Supervised Learning Algorithms have objectives of classification and regression.\n",
      "Current Unsupervised Learning Algorithms have objectives of clustering, dimensionality reduction, and association rule.\n",
      "Current Reinforcement Learning Algorithms focus on decisions that must be made with respect to some previous, unknown time and are broken down to either be studies of model based methods, and model free methods.\n",
      "You are an expert MCQ maker. Given the above text, it is your job to create a quiz of 5 multiple choice questions for machine learning students in simple tone. \n",
      "Make sure the questions are not repeated and check all the questions to be conforming the text as well.\n",
      "Make sure to format your response like RESPONSE_JSON below and use it as a guide.Ensure to make 5 MCQs\n",
      "### RESPONSE_JSON\n",
      "{\"1\": {\"mcq\": \"multiple choice question\", \"options\": {\"a\": \"Choice here\", \"b\": \"Choice here\", \"c\": \"Choice here\", \"d\": \"Choice here\"}, \"correct\": \"correct answer\"}, \"2\": {\"mcq\": \"multiple choice question\", \"options\": {\"a\": \"Choice here\", \"b\": \"Choice here\", \"c\": \"Choice here\", \"d\": \"Choice here\"}}, \"3\": {\"mcq\": \"multiple choice question\", \"options\": {\"a\": \"Choice here\", \"b\": \"Choice here\", \"c\": \"Choice here\", \"d\": \"Choice here\"}}}\n",
      "\u001b[0m\n",
      "\n",
      "\u001b[1m> Finished chain.\u001b[0m\n",
      "\n",
      "\u001b[1m> Finished chain.\u001b[0m\n",
      "{'text': 'The term machine learning was coined in 1959 by Arthur Samuel, an IBM employee and pioneer in the field of computer gaming and artificial intelligence.[6][7] The synonym self-teaching computers was also used in this time period.[8][9]\\n\\nThe earliest machine learning program was introduced in the 1950s when Arthur Samuel invented a computer program that calculated the winning chance in checkers for each side, but the history of machine learning roots back to decades of human desire and effort to study human cognitive processes.[10] In 1949, Canadian psychologist Donald Hebb published the book The Organization of Behavior, in which he introduced a theoretical neural structure formed by certain interactions among nerve cells.[11] Hebb\\'s model of neurons interacting with one another set a groundwork for how AIs and machine learning algorithms work under nodes, or artificial neurons used by computers to communicate data.[10] Other researchers who have studied human cognitive systems contributed to the modern machine learning technologies as well, including logician Walter Pitts and Warren McCulloch, who proposed the early mathematical models of neural networks to come up with algorithms that mirror human thought processes.[10]\\n\\nBy the early 1960s, an experimental \"learning machine\" with punched tape memory, called Cybertron, had been developed by Raytheon Company to analyse sonar signals, electrocardiograms, and speech patterns using rudimentary reinforcement learning. It was repetitively \"trained\" by a human operator/teacher to recognise patterns and equipped with a \"goof\" button to cause it to reevaluate incorrect decisions.[12] A representative book on research into machine learning during the 1960s was Nilsson\\'s book on Learning Machines, dealing mostly with machine learning for pattern classification.[13] Interest related to pattern recognition continued into the 1970s, as described by Duda and Hart in 1973.[14] In 1981, a report was given on using teaching strategies so that an artificial neural network learns to recognise 40 characters (26 letters, 10 digits, and 4 special symbols) from a computer terminal.[15]\\n\\nTom M. Mitchell provided a widely quoted, more formal definition of the algorithms studied in the machine learning field: \"A computer program is said to learn from experience E with respect to some class of tasks T and performance measure P if its performance at tasks in T, as measured by P, improves with experience E.\"[16] This definition of the tasks in which machine learning is concerned offers a fundamentally operational definition rather than defining the field in cognitive terms. This follows Alan Turing\\'s proposal in his paper \"Computing Machinery and Intelligence\", in which the question \"Can machines think?\" is replaced with the question \"Can machines do what we (as thinking entities) can do?\".[17]\\n\\nModern day Machine Learning algorithms are broken into 3 algorithms types: Supervised Learning Algorithms, Unsupervised Learning Algorithms, and Reinforcement Learning Algorithms.[18]\\n\\nCurrent Supervised Learning Algorithms have objectives of classification and regression.\\nCurrent Unsupervised Learning Algorithms have objectives of clustering, dimensionality reduction, and association rule.\\nCurrent Reinforcement Learning Algorithms focus on decisions that must be made with respect to some previous, unknown time and are broken down to either be studies of model based methods, and model free methods.', 'number': 5, 'subject': 'machine learning', 'tone': 'simple', 'response_json': '{\"1\": {\"mcq\": \"multiple choice question\", \"options\": {\"a\": \"Choice here\", \"b\": \"Choice here\", \"c\": \"Choice here\", \"d\": \"Choice here\"}, \"correct\": \"correct answer\"}, \"2\": {\"mcq\": \"multiple choice question\", \"options\": {\"a\": \"Choice here\", \"b\": \"Choice here\", \"c\": \"Choice here\", \"d\": \"Choice here\"}}, \"3\": {\"mcq\": \"multiple choice question\", \"options\": {\"a\": \"Choice here\", \"b\": \"Choice here\", \"c\": \"Choice here\", \"d\": \"Choice here\"}}}', 'quiz': '{\"1\": {\"mcq\": \"Who coined the term \\'Machine Learning\\' in 1959?\", \"options\": {\"a\": \"Arthur Samuel, an IBM employee\", \"b\": \"Donald Hebb, a Canadian psychologist\", \"c\": \"Walter Pitts, a logician\", \"d\": \"Alan Turing, a computer scientist\"}, \"correct\": \"a\"}, \\n\"2\": {\"mcq\": \"What was the main objective of Arthur Samuel\\'s 1950s machine learning program?\", \"options\": {\"a\": \"To calculate the winning chance in chess for each side\", \"b\": \"To calculate the winning chance in checkers for each side\", \"c\": \"To analyze sonar signals\", \"d\": \"To recognize speech patterns\"}, \"correct\": \"b\"}, \\n\"3\": {\"mcq\": \"According to Tom M. Mitchell, what does a computer program learn from experience?\", \"options\": {\"a\": \"To analyze data\", \"b\": \"To classify patterns\", \"c\": \"To improve its performance at tasks\", \"d\": \"To recognize objects\"}, \"correct\": \"c\"},\\n\"4\": {\"mcq\": \"What are the three main types of machine learning algorithms?\", \"options\": {\"a\": \"Supervised, Unsupervised, and Reinforcement Learning\", \"b\": \"Classification, Regression, and Association Rule\", \"c\": \"Clustering, Dimensionality Reduction, and Reinforcement Learning\", \"d\": \"Model Based, Model Free, and Supervised Learning\"}, \"correct\": \"a\"},\\n\"5\": {\"mcq\": \"According to Alan Turing, what question should be asked to determine the intelligence of machines?\", \"options\": {\"a\": \"Can machines think?\", \"b\": \"Can machines learn?\", \"c\": \"Can machines do what we can do?\", \"d\": \"Can machines analyze data?\"}, \"correct\": \"c\"}}', 'review': '{\"1\": {\"mcq\": \"Who coined the term \\'machine learning\\' in 1959?\", \"options\": {\"a\": \"Arthur Samuel\", \"b\": \"Donald Hebb\", \"c\": \"Raytheon Company\", \"d\": \"Alan Turing\"}, \"correct\": \"a\"}, \\n\"2\": {\"mcq\": \"What was the primary task of the Cybertron machine developed by Raytheon Company in the early 1960s?\", \"options\": {\"a\": \"Recognizing patterns in speech and electrocardiograms\", \"b\": \"Analyzing sonar signals and speech patterns\", \"c\": \"Classifying patterns in images\", \"d\": \"Predicting stock prices\"}, \"correct\": \"b\"}, \\n\"3\": {\"mcq\": \"What is the primary objective of Supervised Learning Algorithms?\", \"options\": {\"a\": \"Classification and dimensionality reduction\", \"b\": \"Regression and clustering\", \"c\": \"Classification and regression\", \"d\": \"Clustering and association rule\"}, \"correct\": \"c\"}, \\n\"4\": {\"mcq\": \"Who proposed the early mathematical models of neural networks?\", \"options\": {\"a\": \"Walter Pitts and Warren McCulloch\", \"b\": \"Arthur Samuel and Donald Hebb\", \"c\": \"Tom M. Mitchell and Alan Turing\", \"d\": \"Raytheon Company and Cybertron\"}, \"correct\": \"a\"}, \\n\"5\": {\"mcq\": \"What is the definition of machine learning provided by Tom M. Mitchell?\", \"options\": {\"a\": \"A computer program is said to learn from experience E with respect to some class of tasks T and performance measure P if its performance at tasks in T, as measured by P, improves with experience E\", \"b\": \"A computer program is said to think like humans if it can solve problems on its own\", \"c\": \"A computer program is said to learn from patterns in data\", \"d\": \"A computer program is said to be intelligent if it can reason like humans\"}, \"correct\": \"a\"}}'}\n"
     ]
    }
   ],
   "source": [
    "response = generate_evaluate_chain({\n",
    "    \"text\": TEXT,\n",
    "    \"number\": NUMBER,\n",
    "    \"subject\": SUBJECT,\n",
    "    \"tone\": TONE,\n",
    "    \"response_json\": json.dumps(RESPONSE_JSON)\n",
    "    })\n",
    "print(response)"
   ]
  },
  {
   "cell_type": "code",
   "execution_count": null,
   "id": "9a4ead15",
   "metadata": {},
   "outputs": [],
   "source": [
    "# print(f\"Total Tokens: {cb.total_tokens}\")\n",
    "# print(f\"Prompt Tokens: {cb.prompt_tokens}\")\n",
    "# print(f\"Completion Tokens: {cb.completion_tokens}\")\n",
    "# print(f\"Total Cost: {cb.total_cost}\")"
   ]
  },
  {
   "cell_type": "code",
   "execution_count": 28,
   "id": "22cdc440",
   "metadata": {},
   "outputs": [
    {
     "data": {
      "text/plain": [
       "{'text': 'The term machine learning was coined in 1959 by Arthur Samuel, an IBM employee and pioneer in the field of computer gaming and artificial intelligence.[6][7] The synonym self-teaching computers was also used in this time period.[8][9]\\n\\nThe earliest machine learning program was introduced in the 1950s when Arthur Samuel invented a computer program that calculated the winning chance in checkers for each side, but the history of machine learning roots back to decades of human desire and effort to study human cognitive processes.[10] In 1949, Canadian psychologist Donald Hebb published the book The Organization of Behavior, in which he introduced a theoretical neural structure formed by certain interactions among nerve cells.[11] Hebb\\'s model of neurons interacting with one another set a groundwork for how AIs and machine learning algorithms work under nodes, or artificial neurons used by computers to communicate data.[10] Other researchers who have studied human cognitive systems contributed to the modern machine learning technologies as well, including logician Walter Pitts and Warren McCulloch, who proposed the early mathematical models of neural networks to come up with algorithms that mirror human thought processes.[10]\\n\\nBy the early 1960s, an experimental \"learning machine\" with punched tape memory, called Cybertron, had been developed by Raytheon Company to analyse sonar signals, electrocardiograms, and speech patterns using rudimentary reinforcement learning. It was repetitively \"trained\" by a human operator/teacher to recognise patterns and equipped with a \"goof\" button to cause it to reevaluate incorrect decisions.[12] A representative book on research into machine learning during the 1960s was Nilsson\\'s book on Learning Machines, dealing mostly with machine learning for pattern classification.[13] Interest related to pattern recognition continued into the 1970s, as described by Duda and Hart in 1973.[14] In 1981, a report was given on using teaching strategies so that an artificial neural network learns to recognise 40 characters (26 letters, 10 digits, and 4 special symbols) from a computer terminal.[15]\\n\\nTom M. Mitchell provided a widely quoted, more formal definition of the algorithms studied in the machine learning field: \"A computer program is said to learn from experience E with respect to some class of tasks T and performance measure P if its performance at tasks in T, as measured by P, improves with experience E.\"[16] This definition of the tasks in which machine learning is concerned offers a fundamentally operational definition rather than defining the field in cognitive terms. This follows Alan Turing\\'s proposal in his paper \"Computing Machinery and Intelligence\", in which the question \"Can machines think?\" is replaced with the question \"Can machines do what we (as thinking entities) can do?\".[17]\\n\\nModern day Machine Learning algorithms are broken into 3 algorithms types: Supervised Learning Algorithms, Unsupervised Learning Algorithms, and Reinforcement Learning Algorithms.[18]\\n\\nCurrent Supervised Learning Algorithms have objectives of classification and regression.\\nCurrent Unsupervised Learning Algorithms have objectives of clustering, dimensionality reduction, and association rule.\\nCurrent Reinforcement Learning Algorithms focus on decisions that must be made with respect to some previous, unknown time and are broken down to either be studies of model based methods, and model free methods.',\n",
       " 'number': 5,\n",
       " 'subject': 'machine learning',\n",
       " 'tone': 'simple',\n",
       " 'response_json': '{\"1\": {\"mcq\": \"multiple choice question\", \"options\": {\"a\": \"Choice here\", \"b\": \"Choice here\", \"c\": \"Choice here\", \"d\": \"Choice here\"}, \"correct\": \"correct answer\"}, \"2\": {\"mcq\": \"multiple choice question\", \"options\": {\"a\": \"Choice here\", \"b\": \"Choice here\", \"c\": \"Choice here\", \"d\": \"Choice here\"}}, \"3\": {\"mcq\": \"multiple choice question\", \"options\": {\"a\": \"Choice here\", \"b\": \"Choice here\", \"c\": \"Choice here\", \"d\": \"Choice here\"}}}',\n",
       " 'quiz': '{\"1\": {\"mcq\": \"Who coined the term \\'Machine Learning\\' in 1959?\", \"options\": {\"a\": \"Arthur Samuel, an IBM employee\", \"b\": \"Donald Hebb, a Canadian psychologist\", \"c\": \"Walter Pitts, a logician\", \"d\": \"Alan Turing, a computer scientist\"}, \"correct\": \"a\"}, \\n\"2\": {\"mcq\": \"What was the main objective of Arthur Samuel\\'s 1950s machine learning program?\", \"options\": {\"a\": \"To calculate the winning chance in chess for each side\", \"b\": \"To calculate the winning chance in checkers for each side\", \"c\": \"To analyze sonar signals\", \"d\": \"To recognize speech patterns\"}, \"correct\": \"b\"}, \\n\"3\": {\"mcq\": \"According to Tom M. Mitchell, what does a computer program learn from experience?\", \"options\": {\"a\": \"To analyze data\", \"b\": \"To classify patterns\", \"c\": \"To improve its performance at tasks\", \"d\": \"To recognize objects\"}, \"correct\": \"c\"},\\n\"4\": {\"mcq\": \"What are the three main types of machine learning algorithms?\", \"options\": {\"a\": \"Supervised, Unsupervised, and Reinforcement Learning\", \"b\": \"Classification, Regression, and Association Rule\", \"c\": \"Clustering, Dimensionality Reduction, and Reinforcement Learning\", \"d\": \"Model Based, Model Free, and Supervised Learning\"}, \"correct\": \"a\"},\\n\"5\": {\"mcq\": \"According to Alan Turing, what question should be asked to determine the intelligence of machines?\", \"options\": {\"a\": \"Can machines think?\", \"b\": \"Can machines learn?\", \"c\": \"Can machines do what we can do?\", \"d\": \"Can machines analyze data?\"}, \"correct\": \"c\"}}',\n",
       " 'review': '{\"1\": {\"mcq\": \"Who coined the term \\'machine learning\\' in 1959?\", \"options\": {\"a\": \"Arthur Samuel\", \"b\": \"Donald Hebb\", \"c\": \"Raytheon Company\", \"d\": \"Alan Turing\"}, \"correct\": \"a\"}, \\n\"2\": {\"mcq\": \"What was the primary task of the Cybertron machine developed by Raytheon Company in the early 1960s?\", \"options\": {\"a\": \"Recognizing patterns in speech and electrocardiograms\", \"b\": \"Analyzing sonar signals and speech patterns\", \"c\": \"Classifying patterns in images\", \"d\": \"Predicting stock prices\"}, \"correct\": \"b\"}, \\n\"3\": {\"mcq\": \"What is the primary objective of Supervised Learning Algorithms?\", \"options\": {\"a\": \"Classification and dimensionality reduction\", \"b\": \"Regression and clustering\", \"c\": \"Classification and regression\", \"d\": \"Clustering and association rule\"}, \"correct\": \"c\"}, \\n\"4\": {\"mcq\": \"Who proposed the early mathematical models of neural networks?\", \"options\": {\"a\": \"Walter Pitts and Warren McCulloch\", \"b\": \"Arthur Samuel and Donald Hebb\", \"c\": \"Tom M. Mitchell and Alan Turing\", \"d\": \"Raytheon Company and Cybertron\"}, \"correct\": \"a\"}, \\n\"5\": {\"mcq\": \"What is the definition of machine learning provided by Tom M. Mitchell?\", \"options\": {\"a\": \"A computer program is said to learn from experience E with respect to some class of tasks T and performance measure P if its performance at tasks in T, as measured by P, improves with experience E\", \"b\": \"A computer program is said to think like humans if it can solve problems on its own\", \"c\": \"A computer program is said to learn from patterns in data\", \"d\": \"A computer program is said to be intelligent if it can reason like humans\"}, \"correct\": \"a\"}}'}"
      ]
     },
     "execution_count": 28,
     "metadata": {},
     "output_type": "execute_result"
    }
   ],
   "source": [
    "response"
   ]
  },
  {
   "cell_type": "code",
   "execution_count": 29,
   "id": "ce63f6a4",
   "metadata": {},
   "outputs": [],
   "source": [
    "quiz=response.get(\"quiz\")"
   ]
  },
  {
   "cell_type": "code",
   "execution_count": 30,
   "id": "c2134e66",
   "metadata": {},
   "outputs": [],
   "source": [
    "quiz=json.loads(quiz)"
   ]
  },
  {
   "cell_type": "code",
   "execution_count": 31,
   "id": "85ca7cd8",
   "metadata": {},
   "outputs": [],
   "source": [
    "quiz_table_data=[]\n",
    "for key, value in quiz.items():\n",
    "    mcq = value[\"mcq\"]\n",
    "    options = \" | \".join(\n",
    "        [\n",
    "            f\"{option}: {option_value}\"\n",
    "            for option, option_value in value[\"options\"].items()\n",
    "        ]\n",
    "    )\n",
    "    correct=value[\"correct\"]\n",
    "    quiz_table_data.append({\"MCQ\": mcq, \"Choices\": options, \"Correct\": correct})"
   ]
  },
  {
   "cell_type": "code",
   "execution_count": 32,
   "id": "4e77560e",
   "metadata": {},
   "outputs": [],
   "source": [
    "quiz=pd.DataFrame(quiz_table_data)"
   ]
  },
  {
   "cell_type": "code",
   "execution_count": null,
   "id": "f4ec870c",
   "metadata": {},
   "outputs": [],
   "source": []
  }
 ],
 "metadata": {
  "kernelspec": {
   "display_name": "Python 3",
   "language": "python",
   "name": "python3"
  },
  "language_info": {
   "codemirror_mode": {
    "name": "ipython",
    "version": 3
   },
   "file_extension": ".py",
   "mimetype": "text/x-python",
   "name": "python",
   "nbconvert_exporter": "python",
   "pygments_lexer": "ipython3",
   "version": "3.13.7"
  }
 },
 "nbformat": 4,
 "nbformat_minor": 5
}
